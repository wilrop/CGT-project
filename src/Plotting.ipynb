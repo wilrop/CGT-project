{
 "cells": [
  {
   "cell_type": "code",
   "execution_count": null,
   "metadata": {},
   "outputs": [],
   "source": [
    "# Import necessary libraries\n",
    "import ast\n",
    "import pandas as pd\n",
    "import numpy as np\n",
    "import matplotlib.pyplot as plt\n",
    "\n",
    "# We do this to add the correct module to our python path.\n",
    "import os\n",
    "import sys\n",
    "module_path = os.path.abspath(os.path.join('..'))\n",
    "if module_path not in sys.path:\n",
    "    sys.path.append(module_path)\n",
    "\n",
    "from src.Simulation import run_simulation\n",
    "from src.BuildSimulation import BuildSimulation\n",
    "from src.util import get_risk_prob_proportions"
   ]
  },
  {
   "cell_type": "code",
   "execution_count": null,
   "metadata": {},
   "outputs": [],
   "source": [
    "# Declaring some variables that are used in the simulations.\n",
    "filename = \"results\"\n",
    "setup = BuildSimulation()\n",
    "risks = np.linspace(0.0, 1.0, 21)  # 0.05 step size, open intervals"
   ]
  },
  {
   "cell_type": "code",
   "execution_count": null,
   "metadata": {},
   "outputs": [],
   "source": [
    "# Running the simulations. \n",
    "# UNCOMMENT THE FOLLOWING IF YOU WANT TO EXECUTE THE EXPERIMENTS.\n",
    "'''\n",
    "for risk in risks:\n",
    "    print(\"Simulation for risk \" + str(risk))\n",
    "    setup.risk = risk\n",
    "    savefile = filename + \"-\" + str(risk) + \".csv\"\n",
    "    run_simulation(setup, savefile)\n",
    "'''"
   ]
  },
  {
   "cell_type": "code",
   "execution_count": null,
   "metadata": {},
   "outputs": [],
   "source": [
    "# Loading the results from the files.\n",
    "filename = \"results\"\n",
    "filenames = [filename + \"-\" + str(risk) + \".csv\" for risk in risks]\n",
    "\n",
    "results = []\n",
    "for filename in filenames:\n",
    "    result = pd.read_csv(filename)\n",
    "    # Make sure the list has the right format, otherwise we cannot perform operations on it.\n",
    "    for i in range(setup.num_generations):\n",
    "        tmp = ast.literal_eval(result[\"avg_rounds_contributions\"][i])\n",
    "        result[\"avg_rounds_contributions\"][i] = tmp\n",
    "    results.append(result)\n",
    "\n",
    "    \n",
    "for result in results:\n",
    "    print(result)"
   ]
  },
  {
   "cell_type": "code",
   "execution_count": null,
   "metadata": {},
   "outputs": [],
   "source": [
    "# Getting all variables that will be used in plotting future figures\n",
    "payoffs, targets, contribs, fh_contribs, sh_contribs = get_risk_prob_proportions(setup, risks, results)\n",
    "generations = range(1, setup.num_generations + 1)"
   ]
  },
  {
   "cell_type": "code",
   "execution_count": null,
   "metadata": {},
   "outputs": [],
   "source": [
    "# Plot the risk probability proportions\n",
    "plt.figure()\n",
    "plt.plot(risks, payoffs, label=\"Payoff\")\n",
    "plt.plot(risks, contribs, label=\"Contribution\")\n",
    "plt.plot(risks, targets, label=\"Target\")\n",
    "plt.plot(risks, fh_contribs, label=\"First half contributions\")\n",
    "plt.plot(risks, sh_contribs, label=\"Second half contributions\")\n",
    "plt.ylim((0, 1))\n",
    "plt.xlabel(\"Risk probability\")\n",
    "plt.ylabel(\"Proportion\")\n",
    "plt.legend()\n",
    "plt.show()"
   ]
  },
  {
   "cell_type": "code",
   "execution_count": null,
   "metadata": {},
   "outputs": [],
   "source": [
    "# Plot the trajectories for all the results.\n",
    "for result in results: \n",
    "    # Get the values used in the plot.\n",
    "    payoffs, targets, rounds_contributions = result\n",
    "    contributions = np.sum(rounds_contributions, axis=1)\n",
    "    \n",
    "    # Plot the actual figure.\n",
    "    plt.figure(figsize=(16, 4))\n",
    "    plt.plot(generations, payoffs / setup.initial_endowment, label=\"Payoff\")\n",
    "    plt.plot(generations, contributions / setup.initial_endowment, label=\"Contribution\")\n",
    "    plt.plot(generations, targets / setup.num_games, label=\"Target\")\n",
    "    plt.ylim((0, 1))\n",
    "    plt.xlabel(\"Generations\")\n",
    "    plt.ylabel(\"Proportion\")\n",
    "    plt.legend()\n",
    "    plt.show()"
   ]
  },
  {
   "cell_type": "code",
   "execution_count": null,
   "metadata": {},
   "outputs": [],
   "source": []
  },
  {
   "cell_type": "code",
   "execution_count": null,
   "metadata": {},
   "outputs": [],
   "source": []
  },
  {
   "cell_type": "code",
   "execution_count": null,
   "metadata": {},
   "outputs": [],
   "source": []
  },
  {
   "cell_type": "code",
   "execution_count": null,
   "metadata": {},
   "outputs": [],
   "source": []
  },
  {
   "cell_type": "code",
   "execution_count": null,
   "metadata": {},
   "outputs": [],
   "source": []
  },
  {
   "cell_type": "code",
   "execution_count": null,
   "metadata": {},
   "outputs": [],
   "source": []
  },
  {
   "cell_type": "code",
   "execution_count": null,
   "metadata": {},
   "outputs": [],
   "source": []
  },
  {
   "cell_type": "code",
   "execution_count": null,
   "metadata": {},
   "outputs": [],
   "source": []
  }
 ],
 "metadata": {
  "kernelspec": {
   "display_name": "Python 3",
   "language": "python",
   "name": "python3"
  },
  "language_info": {
   "codemirror_mode": {
    "name": "ipython",
    "version": 3
   },
   "file_extension": ".py",
   "mimetype": "text/x-python",
   "name": "python",
   "nbconvert_exporter": "python",
   "pygments_lexer": "ipython3",
   "version": "3.6.5"
  }
 },
 "nbformat": 4,
 "nbformat_minor": 2
}
