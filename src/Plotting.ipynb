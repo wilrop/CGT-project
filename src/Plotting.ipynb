{
 "cells": [
  {
   "cell_type": "code",
   "execution_count": 8,
   "metadata": {
    "pycharm": {
     "is_executing": false
    }
   },
   "outputs": [],
   "source": [
    "# Import necessary libraries\n",
    "import ast\n",
    "import pandas as pd\n",
    "import numpy as np\n",
    "import matplotlib.pyplot as plt\n",
    "\n",
    "# We do this to add the correct module to our python path.\n",
    "import os\n",
    "import sys\n",
    "module_path = os.path.abspath(os.path.join('..'))\n",
    "if module_path not in sys.path:\n",
    "    sys.path.append(module_path)\n",
    "\n",
    "from Simulation import run_simulation\n",
    "from BuildSimulation import BuildSimulation\n",
    "from util import get_risk_prob_proportions"
   ]
  },
  {
   "cell_type": "code",
   "execution_count": 13,
   "metadata": {},
   "outputs": [],
   "source": [
    "# Declaring some variables that are used in the simulations.\n",
    "filename = \"results\"\n",
    "setup = BuildSimulation()\n",
    "risks =[0.0, 0.05, 0.1, 0.15, 0.2, 0.25, 0.3]"
   ]
  },
  {
   "cell_type": "code",
   "execution_count": 14,
   "metadata": {},
   "outputs": [
    {
     "data": {
      "text/plain": [
       "'\\nfor risk in risks:\\n    print(\"Simulation for risk \" + str(risk))\\n    setup.risk = risk\\n    savefile = filename + \"-\" + str(risk) + \".csv\"\\n    run_simulation(setup, savefile)\\n'"
      ]
     },
     "execution_count": 14,
     "metadata": {},
     "output_type": "execute_result"
    }
   ],
   "source": [
    "# Running the simulations. \n",
    "# UNCOMMENT THE FOLLOWING IF YOU WANT TO EXECUTE THE EXPERIMENTS.\n",
    "'''\n",
    "for risk in risks:\n",
    "    print(\"Simulation for risk \" + str(risk))\n",
    "    setup.risk = risk\n",
    "    savefile = filename + \"-\" + str(risk) + \".csv\"\n",
    "    run_simulation(setup, savefile)\n",
    "'''"
   ]
  },
  {
   "cell_type": "code",
   "execution_count": 16,
   "metadata": {},
   "outputs": [
    {
     "name": "stderr",
     "output_type": "stream",
     "text": [
      "c:\\users\\willem\\documents\\cgt-project\\venv\\lib\\site-packages\\ipykernel_launcher.py:11: SettingWithCopyWarning: \n",
      "A value is trying to be set on a copy of a slice from a DataFrame\n",
      "\n",
      "See the caveats in the documentation: http://pandas.pydata.org/pandas-docs/stable/user_guide/indexing.html#returning-a-view-versus-a-copy\n",
      "  # This is added back by InteractiveShellApp.init_path()\n"
     ]
    },
    {
     "name": "stdout",
     "output_type": "stream",
     "text": [
      "      avg_payoffs                                   behaviors_counts  \\\n",
      "0        9.241571  [0.0, 0.0, 0.0, 3.0, 59.0, 37.0, 168.0, 413.0,...   \n",
      "1       13.598487  [0.0, 0.0, 0.0, 30.0, 83.0, 2249.0, 1193.0, 96...   \n",
      "2       14.669094  [0.0, 0.0, 0.0, 118.0, 535.0, 3526.0, 1011.0, ...   \n",
      "3       15.327663  [0.0, 0.0, 0.0, 1089.0, 796.0, 3571.0, 221.0, ...   \n",
      "4       16.220095  [0.0, 0.0, 244.0, 3034.0, 1179.0, 1149.0, 205....   \n",
      "...           ...                                                ...   \n",
      "9995    19.670000  [4764.0, 771.0, 297.0, 104.0, 64.0, 0.0, 0.0, ...   \n",
      "9996    19.550000  [4287.0, 873.0, 715.0, 125.0, 0.0, 0.0, 0.0, 0...   \n",
      "9997    19.600000  [4471.0, 737.0, 667.0, 125.0, 0.0, 0.0, 0.0, 0...   \n",
      "9998    19.630000  [4495.0, 830.0, 610.0, 65.0, 0.0, 0.0, 0.0, 0....   \n",
      "9999    19.580000  [4416.0, 774.0, 753.0, 57.0, 0.0, 0.0, 0.0, 0....   \n",
      "\n",
      "                            rounds_contributions_counts  targets_reached  \n",
      "0     [[1804.0, 2050.0, 2146.0], [1223.0, 1926.0, 28...              811  \n",
      "1     [[4445.0, 1290.0, 265.0], [1795.0, 3267.0, 938...                0  \n",
      "2     [[5329.0, 609.0, 62.0], [1306.0, 4507.0, 187.0...                0  \n",
      "3     [[5605.0, 279.0, 116.0], [482.0, 5518.0, 0.0],...                0  \n",
      "4     [[5886.0, 114.0, 0.0], [303.0, 5697.0, 0.0], [...                0  \n",
      "...                                                 ...              ...  \n",
      "9995  [[5760.0, 240.0, 0.0], [5872.0, 64.0, 64.0], [...                0  \n",
      "9996  [[5521.0, 349.0, 130.0], [5831.0, 52.0, 117.0]...                0  \n",
      "9997  [[5703.0, 297.0, 0.0], [5932.0, 68.0, 0.0], [5...                0  \n",
      "9998  [[5808.0, 192.0, 0.0], [5947.0, 0.0, 53.0], [5...                0  \n",
      "9999  [[5788.0, 155.0, 57.0], [5697.0, 124.0, 179.0]...                0  \n",
      "\n",
      "[10000 rows x 4 columns]\n",
      "      avg_payoffs                                   behaviors_counts  \\\n",
      "0        9.577206  [0.0, 3.0, 2.0, 11.0, 95.0, 201.0, 140.0, 117....   \n",
      "1       14.471580  [0.0, 961.0, 36.0, 149.0, 1670.0, 1238.0, 426....   \n",
      "2       17.369563  [56.0, 4832.0, 362.0, 226.0, 147.0, 299.0, 0.0...   \n",
      "3       17.692022  [310.0, 4032.0, 708.0, 833.0, 117.0, 0.0, 0.0,...   \n",
      "4       17.838039  [283.0, 4551.0, 867.0, 299.0, 0.0, 0.0, 0.0, 0...   \n",
      "...           ...                                                ...   \n",
      "9995    18.359631  [4191.0, 712.0, 853.0, 187.0, 57.0, 0.0, 0.0, ...   \n",
      "9996    18.784758  [4973.0, 680.0, 156.0, 191.0, 0.0, 0.0, 0.0, 0...   \n",
      "9997    18.649377  [4568.0, 849.0, 515.0, 68.0, 0.0, 0.0, 0.0, 0....   \n",
      "9998    18.555124  [4457.0, 754.0, 663.0, 73.0, 0.0, 53.0, 0.0, 0...   \n",
      "9999    18.719647  [4945.0, 405.0, 650.0, 0.0, 0.0, 0.0, 0.0, 0.0...   \n",
      "\n",
      "                            rounds_contributions_counts  targets_reached  \n",
      "0     [[1998.0, 2562.0, 1440.0], [1809.0, 1881.0, 23...              661  \n",
      "1     [[5155.0, 643.0, 202.0], [5060.0, 630.0, 310.0...                0  \n",
      "2     [[5832.0, 116.0, 52.0], [5773.0, 110.0, 117.0]...                0  \n",
      "3     [[5888.0, 49.0, 63.0], [5869.0, 0.0, 131.0], [...                0  \n",
      "4     [[5947.0, 53.0, 0.0], [5870.0, 62.0, 68.0], [4...                0  \n",
      "...                                                 ...              ...  \n",
      "9995  [[5797.0, 203.0, 0.0], [5684.0, 158.0, 158.0],...                0  \n",
      "9996  [[5880.0, 120.0, 0.0], [5812.0, 122.0, 66.0], ...                0  \n",
      "9997  [[5890.0, 59.0, 51.0], [5949.0, 51.0, 0.0], [5...                0  \n",
      "9998  [[5799.0, 70.0, 131.0], [5927.0, 73.0, 0.0], [...                0  \n",
      "9999  [[6000.0, 0.0, 0.0], [5877.0, 0.0, 123.0], [58...                0  \n",
      "\n",
      "[10000 rows x 4 columns]\n",
      "      avg_payoffs                                   behaviors_counts  \\\n",
      "0        9.711485  [0.0, 0.0, 14.0, 62.0, 86.0, 336.0, 231.0, 468...   \n",
      "1       13.116985  [0.0, 0.0, 1608.0, 396.0, 307.0, 674.0, 413.0,...   \n",
      "2       15.075909  [0.0, 3.0, 626.0, 4379.0, 569.0, 308.0, 52.0, ...   \n",
      "3       15.400417  [0.0, 5.0, 814.0, 4258.0, 604.0, 313.0, 6.0, 0...   \n",
      "4       15.207007  [0.0, 64.0, 1169.0, 3788.0, 806.0, 173.0, 0.0,...   \n",
      "...           ...                                                ...   \n",
      "9995    17.694051  [4345.0, 685.0, 551.0, 308.0, 56.0, 0.0, 55.0,...   \n",
      "9996    17.700813  [4761.0, 783.0, 326.0, 0.0, 61.0, 69.0, 0.0, 0...   \n",
      "9997    17.708197  [4611.0, 561.0, 714.0, 57.0, 0.0, 57.0, 0.0, 0...   \n",
      "9998    17.709559  [4434.0, 789.0, 716.0, 61.0, 0.0, 0.0, 0.0, 0....   \n",
      "9999    17.651728  [4381.0, 703.0, 800.0, 62.0, 54.0, 0.0, 0.0, 0...   \n",
      "\n",
      "                            rounds_contributions_counts  targets_reached  \n",
      "0     [[2150.0, 2176.0, 1674.0], [2301.0, 1547.0, 21...              350  \n",
      "1     [[4361.0, 1639.0, 0.0], [3768.0, 1102.0, 1130....                0  \n",
      "2     [[5829.0, 108.0, 63.0], [5879.0, 121.0, 0.0], ...                0  \n",
      "3     [[5886.0, 59.0, 55.0], [5897.0, 103.0, 0.0], [...                0  \n",
      "4     [[6000.0, 0.0, 0.0], [5773.0, 175.0, 52.0], [5...                0  \n",
      "...                                                 ...              ...  \n",
      "9995  [[5874.0, 0.0, 126.0], [5692.0, 125.0, 183.0],...                0  \n",
      "9996  [[6000.0, 0.0, 0.0], [5784.0, 169.0, 47.0], [5...                0  \n",
      "9997  [[5950.0, 50.0, 0.0], [5800.0, 0.0, 200.0], [5...                0  \n",
      "9998  [[5816.0, 119.0, 65.0], [5818.0, 134.0, 48.0],...                0  \n",
      "9999  [[5883.0, 63.0, 54.0], [5824.0, 176.0, 0.0], [...                0  \n",
      "\n",
      "[10000 rows x 4 columns]\n",
      "      avg_payoffs                                   behaviors_counts  \\\n",
      "0        9.270217  [0.0, 0.0, 0.0, 0.0, 102.0, 152.0, 243.0, 442....   \n",
      "1       11.061987  [0.0, 0.0, 0.0, 30.0, 221.0, 760.0, 1940.0, 64...   \n",
      "2       12.050669  [0.0, 0.0, 3.0, 202.0, 801.0, 1914.0, 1191.0, ...   \n",
      "3       12.734438  [0.0, 0.0, 2.0, 558.0, 1681.0, 2641.0, 560.0, ...   \n",
      "4       13.165244  [0.0, 20.0, 240.0, 1218.0, 1007.0, 2393.0, 809...   \n",
      "...           ...                                                ...   \n",
      "9995    16.562525  [4268.0, 793.0, 743.0, 139.0, 0.0, 57.0, 0.0, ...   \n",
      "9996    16.768635  [4362.0, 840.0, 691.0, 57.0, 50.0, 0.0, 0.0, 0...   \n",
      "9997    16.171838  [4017.0, 997.0, 870.0, 49.0, 67.0, 0.0, 0.0, 0...   \n",
      "9998    16.946304  [4533.0, 888.0, 579.0, 0.0, 0.0, 0.0, 0.0, 0.0...   \n",
      "9999    16.563487  [4599.0, 843.0, 444.0, 65.0, 49.0, 0.0, 0.0, 0...   \n",
      "\n",
      "                            rounds_contributions_counts  targets_reached  \n",
      "0     [[2368.0, 1854.0, 1778.0], [2017.0, 2140.0, 18...              472  \n",
      "1     [[1660.0, 3821.0, 519.0], [3626.0, 2030.0, 344...                0  \n",
      "2     [[1729.0, 3797.0, 474.0], [3349.0, 2408.0, 243...                0  \n",
      "3     [[1128.0, 4534.0, 338.0], [3004.0, 2930.0, 66....                0  \n",
      "4     [[1803.0, 4026.0, 171.0], [3230.0, 2770.0, 0.0...                0  \n",
      "...                                                 ...              ...  \n",
      "9995  [[5748.0, 190.0, 62.0], [5940.0, 0.0, 60.0], [...                0  \n",
      "9996  [[5938.0, 62.0, 0.0], [5932.0, 0.0, 68.0], [58...                0  \n",
      "9997  [[5923.0, 0.0, 77.0], [5943.0, 0.0, 57.0], [58...                0  \n",
      "9998  [[6000.0, 0.0, 0.0], [5874.0, 126.0, 0.0], [58...                0  \n",
      "9999  [[5737.0, 263.0, 0.0], [5755.0, 118.0, 127.0],...                0  \n",
      "\n",
      "[10000 rows x 4 columns]\n",
      "      avg_payoffs                                   behaviors_counts  \\\n",
      "0        8.844832  [0.0, 0.0, 0.0, 64.0, 31.0, 231.0, 356.0, 287....   \n",
      "1       10.856472  [0.0, 0.0, 4.0, 105.0, 426.0, 1785.0, 1416.0, ...   \n",
      "2       11.535624  [0.0, 0.0, 0.0, 2.0, 377.0, 3448.0, 1232.0, 79...   \n",
      "3       11.425435  [0.0, 0.0, 0.0, 65.0, 1018.0, 3337.0, 882.0, 4...   \n",
      "4       12.116581  [0.0, 0.0, 0.0, 221.0, 2680.0, 2265.0, 423.0, ...   \n",
      "...           ...                                                ...   \n",
      "9995    15.626403  [4663.0, 784.0, 439.0, 114.0, 0.0, 0.0, 0.0, 0...   \n",
      "9996    16.119548  [4390.0, 1000.0, 347.0, 205.0, 58.0, 0.0, 0.0,...   \n",
      "9997    15.726885  [4227.0, 1032.0, 574.0, 167.0, 0.0, 0.0, 0.0, ...   \n",
      "9998    16.136520  [4529.0, 837.0, 578.0, 56.0, 0.0, 0.0, 0.0, 0....   \n",
      "9999    15.579608  [4412.0, 1068.0, 464.0, 56.0, 0.0, 0.0, 0.0, 0...   \n",
      "\n",
      "                            rounds_contributions_counts  targets_reached  \n",
      "0     [[1810.0, 1579.0, 2611.0], [2232.0, 1739.0, 20...              589  \n",
      "1     [[3882.0, 1407.0, 711.0], [3756.0, 2005.0, 239...                0  \n",
      "2     [[5409.0, 278.0, 313.0], [5082.0, 918.0, 0.0],...                0  \n",
      "3     [[5360.0, 175.0, 465.0], [5393.0, 607.0, 0.0],...                0  \n",
      "4     [[5880.0, 59.0, 61.0], [5773.0, 177.0, 50.0], ...                0  \n",
      "...                                                 ...              ...  \n",
      "9995  [[5940.0, 60.0, 0.0], [5948.0, 52.0, 0.0], [57...                0  \n",
      "9996  [[5796.0, 120.0, 84.0], [5856.0, 86.0, 58.0], ...                0  \n",
      "9997  [[5819.0, 115.0, 66.0], [5879.0, 121.0, 0.0], ...                0  \n",
      "9998  [[5883.0, 117.0, 0.0], [5937.0, 0.0, 63.0], [5...                0  \n",
      "9999  [[5937.0, 63.0, 0.0], [6000.0, 0.0, 0.0], [539...                0  \n",
      "\n",
      "[10000 rows x 4 columns]\n",
      "      avg_payoffs                                   behaviors_counts  \\\n",
      "0        8.558400  [0.0, 0.0, 4.0, 61.0, 26.0, 161.0, 233.0, 565....   \n",
      "1       11.027676  [0.0, 0.0, 2062.0, 439.0, 319.0, 621.0, 605.0,...   \n",
      "2       13.074025  [0.0, 164.0, 3365.0, 1352.0, 722.0, 77.0, 107....   \n",
      "3       13.197193  [0.0, 443.0, 3716.0, 1450.0, 280.0, 111.0, 0.0...   \n",
      "4       13.446260  [76.0, 1068.0, 3694.0, 774.0, 325.0, 63.0, 0.0...   \n",
      "...           ...                                                ...   \n",
      "9995    14.654987  [4066.0, 1031.0, 663.0, 240.0, 0.0, 0.0, 0.0, ...   \n",
      "9996    14.065566  [4364.0, 1020.0, 369.0, 121.0, 66.0, 60.0, 0.0...   \n",
      "9997    14.183576  [4712.0, 743.0, 313.0, 188.0, 44.0, 0.0, 0.0, ...   \n",
      "9998    14.415983  [4662.0, 681.0, 539.0, 53.0, 65.0, 0.0, 0.0, 0...   \n",
      "9999    14.463174  [4593.0, 573.0, 455.0, 315.0, 64.0, 0.0, 0.0, ...   \n",
      "\n",
      "                            rounds_contributions_counts  targets_reached  \n",
      "0     [[1930.0, 1936.0, 2134.0], [1880.0, 2319.0, 18...              499  \n",
      "1     [[4718.0, 696.0, 586.0], [3075.0, 1803.0, 1122...                0  \n",
      "2     [[5464.0, 299.0, 237.0], [5182.0, 578.0, 240.0...                0  \n",
      "3     [[5770.0, 168.0, 62.0], [5414.0, 586.0, 0.0], ...                0  \n",
      "4     [[5821.0, 104.0, 75.0], [5830.0, 115.0, 55.0],...                0  \n",
      "...                                                 ...              ...  \n",
      "9995  [[5825.0, 119.0, 56.0], [5719.0, 281.0, 0.0], ...                0  \n",
      "9996  [[5880.0, 60.0, 60.0], [5700.0, 300.0, 0.0], [...                0  \n",
      "9997  [[5946.0, 0.0, 54.0], [5738.0, 196.0, 66.0], [...                0  \n",
      "9998  [[5691.0, 132.0, 177.0], [5876.0, 64.0, 60.0],...                0  \n",
      "9999  [[5691.0, 58.0, 251.0], [5830.0, 117.0, 53.0],...                0  \n",
      "\n",
      "[10000 rows x 4 columns]\n",
      "      avg_payoffs                                   behaviors_counts  \\\n",
      "0        8.067466  [0.0, 20.0, 84.0, 14.0, 53.0, 72.0, 339.0, 607...   \n",
      "1        9.271819  [0.0, 26.0, 285.0, 870.0, 205.0, 939.0, 383.0,...   \n",
      "2       10.663483  [0.0, 3.0, 57.0, 1748.0, 318.0, 2343.0, 1060.0...   \n",
      "3       11.238921  [0.0, 20.0, 265.0, 1631.0, 2269.0, 1212.0, 435...   \n",
      "4       11.461163  [0.0, 74.0, 472.0, 1598.0, 2267.0, 1190.0, 329...   \n",
      "...           ...                                                ...   \n",
      "9995    13.717433  [4395.0, 834.0, 451.0, 184.0, 136.0, 0.0, 0.0,...   \n",
      "9996    13.718339  [4659.0, 493.0, 781.0, 67.0, 0.0, 0.0, 0.0, 0....   \n",
      "9997    13.386807  [4478.0, 720.0, 612.0, 190.0, 0.0, 0.0, 0.0, 0...   \n",
      "9998    13.980797  [4764.0, 499.0, 737.0, 0.0, 0.0, 0.0, 0.0, 0.0...   \n",
      "9999    13.590798  [4875.0, 541.0, 481.0, 0.0, 103.0, 0.0, 0.0, 0...   \n",
      "\n",
      "                            rounds_contributions_counts  targets_reached  \n",
      "0     [[1697.0, 2166.0, 2137.0], [2183.0, 1718.0, 20...              423  \n",
      "1     [[2760.0, 2379.0, 861.0], [3748.0, 1308.0, 944...                0  \n",
      "2     [[3043.0, 2509.0, 448.0], [5658.0, 116.0, 226....                0  \n",
      "3     [[4564.0, 1251.0, 185.0], [6000.0, 0.0, 0.0], ...                0  \n",
      "4     [[5277.0, 482.0, 241.0], [5896.0, 49.0, 55.0],...                0  \n",
      "...                                                 ...              ...  \n",
      "9995  [[5936.0, 64.0, 0.0], [5551.0, 281.0, 168.0], ...                0  \n",
      "9996  [[5933.0, 67.0, 0.0], [5812.0, 68.0, 120.0], [...                0  \n",
      "9997  [[5882.0, 0.0, 118.0], [5957.0, 43.0, 0.0], [5...                0  \n",
      "9998  [[5791.0, 148.0, 61.0], [5856.0, 75.0, 69.0], ...                0  \n",
      "9999  [[5936.0, 64.0, 0.0], [5835.0, 0.0, 165.0], [5...                0  \n",
      "\n",
      "[10000 rows x 4 columns]\n"
     ]
    }
   ],
   "source": [
    "# Loading the results from the files.\n",
    "filename = \"results\"\n",
    "filenames = [filename + \"-\" + str(risk) + \".csv\" for risk in risks]\n",
    "\n",
    "results = []\n",
    "for filename in filenames:\n",
    "    result = pd.read_csv(filename)\n",
    "    # Make sure the list has the right format, otherwise we cannot perform operations on it.\n",
    "    for i in range(setup.num_generations):\n",
    "        tmp = ast.literal_eval(result[\"rounds_contributions_counts\"][i])\n",
    "        result[\"rounds_contributions_counts\"][i] = tmp\n",
    "    results.append(result)\n",
    "\n",
    "    \n",
    "for result in results:\n",
    "    print(result)"
   ]
  },
  {
   "cell_type": "code",
   "execution_count": 17,
   "metadata": {},
   "outputs": [],
   "source": [
    "# Getting all variables that will be used in plotting future figures\n",
    "payoffs, targets, contribs, fh_contribs, sh_contribs = get_risk_prob_proportions(setup, risks, results)\n",
    "generations = range(1, setup.num_generations + 1)"
   ]
  },
  {
   "cell_type": "code",
   "execution_count": 18,
   "metadata": {},
   "outputs": [
    {
     "data": {
      "image/png": "[encoded data removed]",
      "text/plain": [
       "<Figure size 432x288 with 1 Axes>"
      ]
     },
     "metadata": {
      "needs_background": "light"
     },
     "output_type": "display_data"
    }
   ],
   "source": [
    "# Plot the risk probability proportions\n",
    "plt.figure()\n",
    "plt.plot(risks, payoffs, label=\"Payoff\")\n",
    "plt.plot(risks, contribs, label=\"Contribution\")\n",
    "plt.plot(risks, targets, label=\"Target\")\n",
    "plt.plot(risks, fh_contribs, label=\"First half contributions\")\n",
    "plt.plot(risks, sh_contribs, label=\"Second half contributions\")\n",
    "plt.ylim((0, 1))\n",
    "plt.xlabel(\"Risk probability\")\n",
    "plt.ylabel(\"Proportion\")\n",
    "plt.legend()\n",
    "plt.show()"
   ]
  },
  {
   "cell_type": "code",
   "execution_count": 19,
   "metadata": {},
   "outputs": [
    {
     "ename": "ValueError",
     "evalue": "too many values to unpack (expected 3)",
     "output_type": "error",
     "traceback": [
      "\u001b[1;31m---------------------------------------------------------------------------\u001b[0m",
      "\u001b[1;31mValueError\u001b[0m                                Traceback (most recent call last)",
      "\u001b[1;32m<ipython-input-19-71359a71f501>\u001b[0m in \u001b[0;36m<module>\u001b[1;34m\u001b[0m\n\u001b[0;32m      2\u001b[0m \u001b[1;32mfor\u001b[0m \u001b[0mresult\u001b[0m \u001b[1;32min\u001b[0m \u001b[0mresults\u001b[0m\u001b[1;33m:\u001b[0m\u001b[1;33m\u001b[0m\u001b[0m\n\u001b[0;32m      3\u001b[0m     \u001b[1;31m# Get the values used in the plot.\u001b[0m\u001b[1;33m\u001b[0m\u001b[1;33m\u001b[0m\u001b[0m\n\u001b[1;32m----> 4\u001b[1;33m     \u001b[0mpayoffs\u001b[0m\u001b[1;33m,\u001b[0m \u001b[0mtargets\u001b[0m\u001b[1;33m,\u001b[0m \u001b[0mrounds_contributions\u001b[0m \u001b[1;33m=\u001b[0m \u001b[0mresult\u001b[0m\u001b[1;33m\u001b[0m\u001b[0m\n\u001b[0m\u001b[0;32m      5\u001b[0m     \u001b[0mcontributions\u001b[0m \u001b[1;33m=\u001b[0m \u001b[0mnp\u001b[0m\u001b[1;33m.\u001b[0m\u001b[0msum\u001b[0m\u001b[1;33m(\u001b[0m\u001b[0mrounds_contributions\u001b[0m\u001b[1;33m,\u001b[0m \u001b[0maxis\u001b[0m\u001b[1;33m=\u001b[0m\u001b[1;36m1\u001b[0m\u001b[1;33m)\u001b[0m\u001b[1;33m\u001b[0m\u001b[0m\n\u001b[0;32m      6\u001b[0m \u001b[1;33m\u001b[0m\u001b[0m\n",
      "\u001b[1;31mValueError\u001b[0m: too many values to unpack (expected 3)"
     ]
    }
   ],
   "source": [
    "# Plot the trajectories for all the results.\n",
    "for result in results: \n",
    "    # Get the values used in the plot.\n",
    "    payoffs, targets, rounds_contributions = result\n",
    "    contributions = np.sum(rounds_contributions, axis=1)\n",
    "    \n",
    "    # Plot the actual figure.\n",
    "    plt.figure(figsize=(16, 4))\n",
    "    plt.plot(generations, payoffs / setup.initial_endowment, label=\"Payoff\")\n",
    "    plt.plot(generations, contributions / setup.initial_endowment, label=\"Contribution\")\n",
    "    plt.plot(generations, targets / setup.num_games, label=\"Target\")\n",
    "    plt.ylim((0, 1))\n",
    "    plt.xlabel(\"Generations\")\n",
    "    plt.ylabel(\"Proportion\")\n",
    "    plt.legend()\n",
    "    plt.show()"
   ]
  },
  {
   "cell_type": "code",
   "execution_count": null,
   "metadata": {},
   "outputs": [],
   "source": []
  },
  {
   "cell_type": "code",
   "execution_count": null,
   "metadata": {},
   "outputs": [],
   "source": []
  },
  {
   "cell_type": "code",
   "execution_count": null,
   "metadata": {},
   "outputs": [],
   "source": []
  },
  {
   "cell_type": "code",
   "execution_count": null,
   "metadata": {},
   "outputs": [],
   "source": []
  },
  {
   "cell_type": "code",
   "execution_count": null,
   "metadata": {},
   "outputs": [],
   "source": []
  },
  {
   "cell_type": "code",
   "execution_count": null,
   "metadata": {},
   "outputs": [],
   "source": []
  },
  {
   "cell_type": "code",
   "execution_count": null,
   "metadata": {},
   "outputs": [],
   "source": []
  },
  {
   "cell_type": "code",
   "execution_count": null,
   "metadata": {},
   "outputs": [],
   "source": []
  }
 ],
 "metadata": {
  "kernelspec": {
   "display_name": "Python 3",
   "language": "python",
   "name": "python3"
  },
  "language_info": {
   "codemirror_mode": {
    "name": "ipython",
    "version": 3
   },
   "file_extension": ".py",
   "mimetype": "text/x-python",
   "name": "python",
   "nbconvert_exporter": "python",
   "pygments_lexer": "ipython3",
   "version": "3.6.5"
  },
  "pycharm": {
   "stem_cell": {
    "cell_type": "raw",
    "metadata": {
     "collapsed": false
    },
    "source": []
   }
  }
 },
 "nbformat": 4,
 "nbformat_minor": 2
}
